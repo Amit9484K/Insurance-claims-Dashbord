{
 "cells": [
  {
   "cell_type": "code",
   "execution_count": 3,
   "id": "9cc71bc2-955d-414f-90de-4ba56fcd5953",
   "metadata": {},
   "outputs": [],
   "source": [
    "import numpy as np\n",
    "import pandas as pd\n",
    "import matplotlib as mat\n",
    "import seaborn as sb"
   ]
  },
  {
   "cell_type": "code",
   "execution_count": 4,
   "id": "546dd2ad-f908-44c5-bdc8-b0f950e96582",
   "metadata": {},
   "outputs": [],
   "source": [
    "df = pd.read_csv(r'C:\\Users\\amit9\\Desktop\\Insurance project\\mock_insurance_claims_data.csv')"
   ]
  },
  {
   "cell_type": "code",
   "execution_count": 33,
   "id": "edeb9bfb-f406-4b4b-8e80-045a0b494479",
   "metadata": {},
   "outputs": [
    {
     "data": {
      "text/html": [
       "<div>\n",
       "<style scoped>\n",
       "    .dataframe tbody tr th:only-of-type {\n",
       "        vertical-align: middle;\n",
       "    }\n",
       "\n",
       "    .dataframe tbody tr th {\n",
       "        vertical-align: top;\n",
       "    }\n",
       "\n",
       "    .dataframe thead th {\n",
       "        text-align: right;\n",
       "    }\n",
       "</style>\n",
       "<table border=\"1\" class=\"dataframe\">\n",
       "  <thead>\n",
       "    <tr style=\"text-align: right;\">\n",
       "      <th></th>\n",
       "      <th>claim_id</th>\n",
       "      <th>customer_id</th>\n",
       "      <th>claim_date</th>\n",
       "      <th>claim_amount</th>\n",
       "      <th>approval_status</th>\n",
       "      <th>region</th>\n",
       "      <th>processing_time_days</th>\n",
       "      <th>risk_category</th>\n",
       "      <th>insurance_type</th>\n",
       "    </tr>\n",
       "  </thead>\n",
       "  <tbody>\n",
       "    <tr>\n",
       "      <th>0</th>\n",
       "      <td>1001</td>\n",
       "      <td>257</td>\n",
       "      <td>2022-05-16</td>\n",
       "      <td>49010.10</td>\n",
       "      <td>Approved</td>\n",
       "      <td>North</td>\n",
       "      <td>15</td>\n",
       "      <td>High</td>\n",
       "      <td>Home</td>\n",
       "    </tr>\n",
       "    <tr>\n",
       "      <th>1</th>\n",
       "      <td>1002</td>\n",
       "      <td>212</td>\n",
       "      <td>2024-01-11</td>\n",
       "      <td>8917.52</td>\n",
       "      <td>Approved</td>\n",
       "      <td>South</td>\n",
       "      <td>28</td>\n",
       "      <td>Low</td>\n",
       "      <td>Auto</td>\n",
       "    </tr>\n",
       "    <tr>\n",
       "      <th>2</th>\n",
       "      <td>1003</td>\n",
       "      <td>340</td>\n",
       "      <td>2023-08-08</td>\n",
       "      <td>22649.94</td>\n",
       "      <td>Rejected</td>\n",
       "      <td>West</td>\n",
       "      <td>10</td>\n",
       "      <td>Low</td>\n",
       "      <td>Auto</td>\n",
       "    </tr>\n",
       "    <tr>\n",
       "      <th>3</th>\n",
       "      <td>1004</td>\n",
       "      <td>325</td>\n",
       "      <td>2023-08-14</td>\n",
       "      <td>35577.70</td>\n",
       "      <td>Rejected</td>\n",
       "      <td>East</td>\n",
       "      <td>7</td>\n",
       "      <td>Low</td>\n",
       "      <td>Auto</td>\n",
       "    </tr>\n",
       "    <tr>\n",
       "      <th>4</th>\n",
       "      <td>1005</td>\n",
       "      <td>314</td>\n",
       "      <td>2023-04-30</td>\n",
       "      <td>28484.44</td>\n",
       "      <td>Rejected</td>\n",
       "      <td>West</td>\n",
       "      <td>13</td>\n",
       "      <td>Low</td>\n",
       "      <td>Auto</td>\n",
       "    </tr>\n",
       "  </tbody>\n",
       "</table>\n",
       "</div>"
      ],
      "text/plain": [
       "   claim_id  customer_id  claim_date  claim_amount approval_status region  \\\n",
       "0      1001          257  2022-05-16      49010.10        Approved  North   \n",
       "1      1002          212  2024-01-11       8917.52        Approved  South   \n",
       "2      1003          340  2023-08-08      22649.94        Rejected   West   \n",
       "3      1004          325  2023-08-14      35577.70        Rejected   East   \n",
       "4      1005          314  2023-04-30      28484.44        Rejected   West   \n",
       "\n",
       "   processing_time_days risk_category insurance_type  \n",
       "0                    15          High           Home  \n",
       "1                    28           Low           Auto  \n",
       "2                    10           Low           Auto  \n",
       "3                     7           Low           Auto  \n",
       "4                    13           Low           Auto  "
      ]
     },
     "execution_count": 33,
     "metadata": {},
     "output_type": "execute_result"
    }
   ],
   "source": [
    "df.head()"
   ]
  },
  {
   "cell_type": "code",
   "execution_count": 5,
   "id": "4e51341f-b3f0-444d-9c91-03e41b432ca4",
   "metadata": {},
   "outputs": [
    {
     "name": "stdout",
     "output_type": "stream",
     "text": [
      "<class 'pandas.core.frame.DataFrame'>\n",
      "RangeIndex: 200 entries, 0 to 199\n",
      "Data columns (total 9 columns):\n",
      " #   Column                Non-Null Count  Dtype  \n",
      "---  ------                --------------  -----  \n",
      " 0   claim_id              200 non-null    int64  \n",
      " 1   customer_id           200 non-null    int64  \n",
      " 2   claim_date            200 non-null    object \n",
      " 3   claim_amount          200 non-null    float64\n",
      " 4   approval_status       200 non-null    object \n",
      " 5   region                200 non-null    object \n",
      " 6   processing_time_days  200 non-null    int64  \n",
      " 7   risk_category         200 non-null    object \n",
      " 8   insurance_type        200 non-null    object \n",
      "dtypes: float64(1), int64(3), object(5)\n",
      "memory usage: 14.2+ KB\n"
     ]
    }
   ],
   "source": [
    "df.info()"
   ]
  },
  {
   "cell_type": "code",
   "execution_count": 6,
   "id": "06ea51f3-dbc1-42ba-82de-b6575d4aff5c",
   "metadata": {},
   "outputs": [
    {
     "data": {
      "text/plain": [
       "claim_id                0\n",
       "customer_id             0\n",
       "claim_date              0\n",
       "claim_amount            0\n",
       "approval_status         0\n",
       "region                  0\n",
       "processing_time_days    0\n",
       "risk_category           0\n",
       "insurance_type          0\n",
       "dtype: int64"
      ]
     },
     "execution_count": 6,
     "metadata": {},
     "output_type": "execute_result"
    }
   ],
   "source": [
    "pd.isnull(df).sum()\n"
   ]
  },
  {
   "cell_type": "code",
   "execution_count": 7,
   "id": "bf6d440b-672a-4f97-8e52-b8cee6dd1879",
   "metadata": {},
   "outputs": [],
   "source": [
    "df['claim_date'] = pd.to_datetime(df['claim_date'])"
   ]
  },
  {
   "cell_type": "code",
   "execution_count": 8,
   "id": "c4794640-3aa5-4c5a-8c2f-8a863eaa17fa",
   "metadata": {},
   "outputs": [],
   "source": [
    "df['claim_year'] = df['claim_date'].dt.year\n",
    "df['claim_month'] = df['claim_date'].dt.month"
   ]
  },
  {
   "cell_type": "code",
   "execution_count": 9,
   "id": "17885bff-4982-4d21-b16b-1d2cf72c9aa7",
   "metadata": {},
   "outputs": [],
   "source": [
    "df['is_high_value'] = df['claim_amount'] > 40000\n",
    "df['fast_processing'] = df['processing_time_days'] < 5"
   ]
  },
  {
   "cell_type": "code",
   "execution_count": 45,
   "id": "f98c37c4-0ffb-4e34-b153-600db6765ccb",
   "metadata": {
    "scrolled": true
   },
   "outputs": [
    {
     "data": {
      "text/html": [
       "<div>\n",
       "<style scoped>\n",
       "    .dataframe tbody tr th:only-of-type {\n",
       "        vertical-align: middle;\n",
       "    }\n",
       "\n",
       "    .dataframe tbody tr th {\n",
       "        vertical-align: top;\n",
       "    }\n",
       "\n",
       "    .dataframe thead th {\n",
       "        text-align: right;\n",
       "    }\n",
       "</style>\n",
       "<table border=\"1\" class=\"dataframe\">\n",
       "  <thead>\n",
       "    <tr style=\"text-align: right;\">\n",
       "      <th></th>\n",
       "      <th>claim_id</th>\n",
       "      <th>customer_id</th>\n",
       "      <th>claim_date</th>\n",
       "      <th>claim_amount</th>\n",
       "      <th>approval_status</th>\n",
       "      <th>region</th>\n",
       "      <th>processing_time_days</th>\n",
       "      <th>risk_category</th>\n",
       "      <th>insurance_type</th>\n",
       "      <th>claim_year</th>\n",
       "      <th>claim_month</th>\n",
       "      <th>is_high_value</th>\n",
       "      <th>fast_processing</th>\n",
       "    </tr>\n",
       "  </thead>\n",
       "  <tbody>\n",
       "    <tr>\n",
       "      <th>0</th>\n",
       "      <td>1001</td>\n",
       "      <td>257</td>\n",
       "      <td>2022-05-16</td>\n",
       "      <td>49010.10</td>\n",
       "      <td>Approved</td>\n",
       "      <td>North</td>\n",
       "      <td>15</td>\n",
       "      <td>High</td>\n",
       "      <td>Home</td>\n",
       "      <td>2022</td>\n",
       "      <td>5</td>\n",
       "      <td>True</td>\n",
       "      <td>False</td>\n",
       "    </tr>\n",
       "    <tr>\n",
       "      <th>1</th>\n",
       "      <td>1002</td>\n",
       "      <td>212</td>\n",
       "      <td>2024-01-11</td>\n",
       "      <td>8917.52</td>\n",
       "      <td>Approved</td>\n",
       "      <td>South</td>\n",
       "      <td>28</td>\n",
       "      <td>Low</td>\n",
       "      <td>Auto</td>\n",
       "      <td>2024</td>\n",
       "      <td>1</td>\n",
       "      <td>False</td>\n",
       "      <td>False</td>\n",
       "    </tr>\n",
       "    <tr>\n",
       "      <th>2</th>\n",
       "      <td>1003</td>\n",
       "      <td>340</td>\n",
       "      <td>2023-08-08</td>\n",
       "      <td>22649.94</td>\n",
       "      <td>Rejected</td>\n",
       "      <td>West</td>\n",
       "      <td>10</td>\n",
       "      <td>Low</td>\n",
       "      <td>Auto</td>\n",
       "      <td>2023</td>\n",
       "      <td>8</td>\n",
       "      <td>False</td>\n",
       "      <td>False</td>\n",
       "    </tr>\n",
       "    <tr>\n",
       "      <th>3</th>\n",
       "      <td>1004</td>\n",
       "      <td>325</td>\n",
       "      <td>2023-08-14</td>\n",
       "      <td>35577.70</td>\n",
       "      <td>Rejected</td>\n",
       "      <td>East</td>\n",
       "      <td>7</td>\n",
       "      <td>Low</td>\n",
       "      <td>Auto</td>\n",
       "      <td>2023</td>\n",
       "      <td>8</td>\n",
       "      <td>False</td>\n",
       "      <td>False</td>\n",
       "    </tr>\n",
       "    <tr>\n",
       "      <th>4</th>\n",
       "      <td>1005</td>\n",
       "      <td>314</td>\n",
       "      <td>2023-04-30</td>\n",
       "      <td>28484.44</td>\n",
       "      <td>Rejected</td>\n",
       "      <td>West</td>\n",
       "      <td>13</td>\n",
       "      <td>Low</td>\n",
       "      <td>Auto</td>\n",
       "      <td>2023</td>\n",
       "      <td>4</td>\n",
       "      <td>False</td>\n",
       "      <td>False</td>\n",
       "    </tr>\n",
       "  </tbody>\n",
       "</table>\n",
       "</div>"
      ],
      "text/plain": [
       "   claim_id  customer_id claim_date  claim_amount approval_status region  \\\n",
       "0      1001          257 2022-05-16      49010.10        Approved  North   \n",
       "1      1002          212 2024-01-11       8917.52        Approved  South   \n",
       "2      1003          340 2023-08-08      22649.94        Rejected   West   \n",
       "3      1004          325 2023-08-14      35577.70        Rejected   East   \n",
       "4      1005          314 2023-04-30      28484.44        Rejected   West   \n",
       "\n",
       "   processing_time_days risk_category insurance_type  claim_year  claim_month  \\\n",
       "0                    15          High           Home        2022            5   \n",
       "1                    28           Low           Auto        2024            1   \n",
       "2                    10           Low           Auto        2023            8   \n",
       "3                     7           Low           Auto        2023            8   \n",
       "4                    13           Low           Auto        2023            4   \n",
       "\n",
       "   is_high_value  fast_processing  \n",
       "0           True            False  \n",
       "1          False            False  \n",
       "2          False            False  \n",
       "3          False            False  \n",
       "4          False            False  "
      ]
     },
     "execution_count": 45,
     "metadata": {},
     "output_type": "execute_result"
    }
   ],
   "source": [
    "df.head()"
   ]
  },
  {
   "cell_type": "code",
   "execution_count": 11,
   "id": "6beda1d7-23c2-421f-8434-eef90f2892da",
   "metadata": {},
   "outputs": [
    {
     "name": "stdout",
     "output_type": "stream",
     "text": [
      "   claim_year  claim_month  total_claims\n",
      "0        2022            1             5\n",
      "1        2022            2             8\n",
      "2        2022            3            12\n",
      "3        2022            4            11\n",
      "4        2022            5             7\n"
     ]
    }
   ],
   "source": [
    "monthly_claims = df.groupby(['claim_year', 'claim_month']).size().reset_index(name='total_claims')\n",
    "\n",
    "print(monthly_claims.head())"
   ]
  },
  {
   "cell_type": "code",
   "execution_count": 12,
   "id": "0133da56-2bdb-47b2-bd39-808e6299143c",
   "metadata": {},
   "outputs": [
    {
     "name": "stdout",
     "output_type": "stream",
     "text": [
      "approval_status\n",
      "Approved    130\n",
      "Rejected     49\n",
      "Pending      21\n",
      "Name: count, dtype: int64\n"
     ]
    }
   ],
   "source": [
    "approval_counts = df['approval_status'].value_counts()\n",
    "print(approval_counts)\n"
   ]
  },
  {
   "cell_type": "code",
   "execution_count": 30,
   "id": "d962576e-6b69-451e-955d-b29a8d3b01e7",
   "metadata": {},
   "outputs": [
    {
     "name": "stdout",
     "output_type": "stream",
     "text": [
      "region\n",
      "South    59\n",
      "North    51\n",
      "West     51\n",
      "East     39\n",
      "Name: count, dtype: int64\n"
     ]
    }
   ],
   "source": [
    "claim_region = df['region'].value_counts()\n",
    "print(claim_region)"
   ]
  },
  {
   "cell_type": "code",
   "execution_count": 34,
   "id": "ade5b157-ea98-494a-9035-9e5b7d166c48",
   "metadata": {},
   "outputs": [
    {
     "name": "stdout",
     "output_type": "stream",
     "text": [
      "200\n"
     ]
    }
   ],
   "source": [
    "claim_region1 = df['region'].count()\n",
    "print(claim_region)"
   ]
  },
  {
   "cell_type": "code",
   "execution_count": 35,
   "id": "39bc5e04-b63a-4d3e-9084-da49e5c4e8a3",
   "metadata": {},
   "outputs": [
    {
     "name": "stdout",
     "output_type": "stream",
     "text": [
      "risk_category\n",
      "Low       104\n",
      "Medium     63\n",
      "High       33\n",
      "Name: count, dtype: int64\n"
     ]
    }
   ],
   "source": [
    "risk_distribution = df['risk_category'].value_counts()\n",
    "print(risk_distribution)\n"
   ]
  },
  {
   "cell_type": "code",
   "execution_count": 48,
   "id": "7f7df2d1-54c4-487e-ab40-aeb989246077",
   "metadata": {},
   "outputs": [
    {
     "name": "stdout",
     "output_type": "stream",
     "text": [
      "  insurance_type  processing_time_days\n",
      "0           Auto             18.830508\n",
      "1         Health             15.177778\n",
      "2           Home             14.454545\n",
      "3           Life             16.000000\n"
     ]
    }
   ],
   "source": [
    "avg_processing = df.groupby('insurance_type')['processing_time_days'].mean().reset_index()\n",
    "print(avg_processing)\n"
   ]
  },
  {
   "cell_type": "code",
   "execution_count": 49,
   "id": "23c21d54-5b7d-497b-b01d-c1fe617a8004",
   "metadata": {},
   "outputs": [],
   "source": [
    "df.to_csv(\"cleaned_insurance_claims.csv\", index=False)"
   ]
  },
  {
   "cell_type": "code",
   "execution_count": 60,
   "id": "cc26c44e-7542-491f-add4-7935716fdf73",
   "metadata": {},
   "outputs": [
    {
     "data": {
      "text/plain": [
       "Index(['claim_id', 'customer_id', 'claim_date', 'claim_amount',\n",
       "       'approval_status', 'region', 'processing_time_days', 'risk_category',\n",
       "       'insurance_type', 'claim_year', 'claim_month', 'is_high_value',\n",
       "       'fast_processing'],\n",
       "      dtype='object')"
      ]
     },
     "execution_count": 60,
     "metadata": {},
     "output_type": "execute_result"
    }
   ],
   "source": [
    "df.head()\n",
    "df.columns"
   ]
  },
  {
   "cell_type": "code",
   "execution_count": 61,
   "id": "e482822c-341d-4174-8921-5518627fbe05",
   "metadata": {},
   "outputs": [],
   "source": [
    "df.to_csv(\"cleaned_insurance_claims.csv\", index=False)\n"
   ]
  },
  {
   "cell_type": "code",
   "execution_count": 62,
   "id": "5e7a4f86-1063-41ea-bca3-66a88281aeaf",
   "metadata": {},
   "outputs": [
    {
     "name": "stdout",
     "output_type": "stream",
     "text": [
      "Index(['claim_id', 'customer_id', 'claim_date', 'claim_amount',\n",
      "       'approval_status', 'region', 'processing_time_days', 'risk_category',\n",
      "       'insurance_type', 'claim_year', 'claim_month', 'is_high_value',\n",
      "       'fast_processing'],\n",
      "      dtype='object')\n",
      "   claim_id  customer_id  claim_date  claim_amount approval_status region  \\\n",
      "0      1001          257  2022-05-16      49010.10        Approved  North   \n",
      "1      1002          212  2024-01-11       8917.52        Approved  South   \n",
      "2      1003          340  2023-08-08      22649.94        Rejected   West   \n",
      "3      1004          325  2023-08-14      35577.70        Rejected   East   \n",
      "4      1005          314  2023-04-30      28484.44        Rejected   West   \n",
      "\n",
      "   processing_time_days risk_category insurance_type  claim_year  claim_month  \\\n",
      "0                    15          High           Home        2022            5   \n",
      "1                    28           Low           Auto        2024            1   \n",
      "2                    10           Low           Auto        2023            8   \n",
      "3                     7           Low           Auto        2023            8   \n",
      "4                    13           Low           Auto        2023            4   \n",
      "\n",
      "   is_high_value  fast_processing  \n",
      "0           True            False  \n",
      "1          False            False  \n",
      "2          False            False  \n",
      "3          False            False  \n",
      "4          False            False  \n"
     ]
    }
   ],
   "source": [
    "test_df = pd.read_csv(\"cleaned_insurance_claims.csv\")\n",
    "print(test_df.columns)\n",
    "print(test_df.head())\n"
   ]
  },
  {
   "cell_type": "code",
   "execution_count": null,
   "id": "94ec3462-fccf-4cbe-80d1-08fd2f7d14a0",
   "metadata": {},
   "outputs": [],
   "source": []
  }
 ],
 "metadata": {
  "kernelspec": {
   "display_name": "Python 3 (ipykernel)",
   "language": "python",
   "name": "python3"
  },
  "language_info": {
   "codemirror_mode": {
    "name": "ipython",
    "version": 3
   },
   "file_extension": ".py",
   "mimetype": "text/x-python",
   "name": "python",
   "nbconvert_exporter": "python",
   "pygments_lexer": "ipython3",
   "version": "3.13.2"
  }
 },
 "nbformat": 4,
 "nbformat_minor": 5
}
